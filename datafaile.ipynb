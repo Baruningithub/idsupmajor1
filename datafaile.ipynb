{
 "cells": [
  {
   "cell_type": "code",
   "execution_count": 7,
   "metadata": {},
   "outputs": [],
   "source": [
    "import matplotlib.pyplot as plt\n",
    "from collections import defaultdict"
   ]
  },
  {
   "cell_type": "code",
   "execution_count": 2,
   "metadata": {},
   "outputs": [],
   "source": [
    "data=[{'user id' : 1, 'Height' : 150, 'Weight' : 60, 'Age' : 23},\n",
    "{'user id' : 2, 'Height' : 130, 'Weight' : 40, 'Age' : 15},\n",
    "{'user id' : 3, 'Height' : 155, 'Weight' : 62, 'Age' : 25},\n",
    "{'user id' : 4, 'Height' : 120, 'Weight' : 42, 'Age' : 12},\n",
    "{'user id' : 5, 'Height' : 180, 'Weight' : 90, 'Age' : 45},\n",
    "{'user id' : 6, 'Height' : 184, 'Weight' : 90, 'Age' : 50},\n",
    "{'user id' : 7, 'Height' : 190, 'Weight' : 95, 'Age' : 55},\n",
    "{'user id' : 8, 'Height' : 189, 'Weight' : 93, 'Age' : 53},\n",
    "{'user id' : 9, 'Height' : 188, 'Weight' : 92, 'Age' : 58},\n",
    "{'user id' : 10, 'Height' : 190, 'Weight' : 95, 'Age' : 55},\n",
    "{'user id' : 11, 'Height' : 170, 'Weight' : 65, 'Age' : 39},\n",
    "{'user id' : 12, 'Height' : 165, 'Weight' : 60, 'Age' : 35},\n",
    "{'user id' : 13, 'Height' : 160, 'Weight' : 55, 'Age' : 30},\n",
    "{'user id' : 14, 'Height' : 155, 'Weight' : 57, 'Age' : 25},\n",
    "{'user id' : 15, 'Height' : 149, 'Weight' : 54, 'Age' : 22},\n",
    "{'user id' : 16, 'Height' : 100, 'Weight' : 30, 'Age' : 11},\n",
    "{'user id' : 17, 'Height' : 110, 'Weight' : 40, 'Age' : 16},\n",
    "{'user id' : 18, 'Height' : 119, 'Weight' : 45, 'Age' : 19},\n",
    "{'user id' : 19, 'Height' : 120, 'Weight' : 50, 'Age' : 39},\n",
    "{'user id' : 20, 'Height' : 170, 'Weight' : 80, 'Age' : 75}]\n"
   ]
  },
  {
   "cell_type": "code",
   "execution_count": 3,
   "metadata": {},
   "outputs": [
    {
     "name": "stdout",
     "output_type": "stream",
     "text": [
      "[2, 4, 16, 17, 18]\n",
      "[1, 3, 11, 12, 13, 14, 15, 19]\n",
      "[5, 6, 7, 8, 9, 10, 20]\n"
     ]
    }
   ],
   "source": [
    "\n",
    "gr1=[i[\"user id\"] for i in data if i[\"Age\"]<=20]\n",
    "print(gr1)\n",
    "gr2=[i[\"user id\"] for i in data if i[\"Age\"]>20 and i[\"Age\"]<40]\n",
    "print(gr2)\n",
    "gr3=[i[\"user id\"] for i in data if i[\"Age\"]>40]\n",
    "print(gr3)\n",
    "\n"
   ]
  },
  {
   "cell_type": "code",
   "execution_count": 4,
   "metadata": {},
   "outputs": [
    {
     "data": {
      "image/png": "[encoded data removed]",
      "text/plain": [
       "<Figure size 640x480 with 1 Axes>"
      ]
     },
     "metadata": {},
     "output_type": "display_data"
    }
   ],
   "source": [
    "user_ids=[i[\"user id\"] for i in data]\n",
    "weights=[i[\"Weight\"] for i in data]\n",
    "plt.plot(user_ids,weights)\n",
    "plt.xlabel=\"User_ids\"\n",
    "plt.ylabel=\"Weights\"\n",
    "plt.show()"
   ]
  },
  {
   "cell_type": "code",
   "execution_count": 5,
   "metadata": {},
   "outputs": [
    {
     "name": "stdout",
     "output_type": "stream",
     "text": [
      "[[150, 60, 23], [130, 40, 15], [155, 62, 25], [120, 42, 12], [180, 90, 45], [184, 90, 50], [190, 95, 55], [189, 93, 53], [188, 92, 58], [190, 95, 55], [170, 65, 39], [165, 60, 35], [160, 55, 30], [155, 57, 25], [149, 54, 22], [100, 30, 11], [110, 40, 16], [119, 45, 19], [120, 50, 39], [170, 80, 75]]\n",
      "[3094, 1295, 702]\n",
      "154.7\n",
      "64.75\n",
      "35.1\n"
     ]
    }
   ],
   "source": [
    "vectors=[]\n",
    "for i in data:\n",
    "    v=[i['Height'],i['Weight'],i['Age']]\n",
    "    vectors.append(v)\n",
    "print(vectors)\n",
    "s=[sum(v[i] for v in vectors) for i in range(len(v))]\n",
    "print(s)\n",
    "avg_height=s[0]/20\n",
    "avg_weight=s[1]/20\n",
    "avg_age=s[2]/20\n",
    "print(avg_height)\n",
    "print(avg_weight)\n",
    "print(avg_age)\n"
   ]
  },
  {
   "cell_type": "code",
   "execution_count": 12,
   "metadata": {},
   "outputs": [
    {
     "name": "stdout",
     "output_type": "stream",
     "text": [
      "64.75\n",
      "80.0\n",
      "[60, 40, 90, 95]\n"
     ]
    }
   ],
   "source": [
    "def mean(l):\n",
    "    return sum(l)/len(l)\n",
    "def median(l):\n",
    "    n=len(l)\n",
    "    if n%2==0:\n",
    "        return (l[int(n/2)]+l[int(n/2)-1])/2\n",
    "    return l[n//2]\n",
    "def mode(l):\n",
    "    d=defaultdict(int)\n",
    "    for i in l:\n",
    "        d[i]+=1\n",
    "    m=max(d.values())\n",
    "    return [i for i in d.keys() if d[i]==m]\n",
    "\n",
    "print(mean(weights))\n",
    "print(median(weights))\n",
    "print(mode(weights))\n"
   ]
  },
  {
   "cell_type": "code",
   "execution_count": 13,
   "metadata": {},
   "outputs": [
    {
     "name": "stdout",
     "output_type": "stream",
     "text": [
      "810.8100000000001\n"
     ]
    }
   ],
   "source": [
    "def var(l):\n",
    "    x=mean(l)\n",
    "    return sum([(i-x)**2 for i in l])/len(l)\n",
    "heights=[i['Height'] for i in data]\n",
    "print(var(heights))"
   ]
  },
  {
   "cell_type": "code",
   "execution_count": 14,
   "metadata": {},
   "outputs": [
    {
     "name": "stdout",
     "output_type": "stream",
     "text": [
      "561.625\n"
     ]
    }
   ],
   "source": [
    "def cov(l1,l2):\n",
    "    if len(l1)!=len(l2): print(\"Invalid input\")\n",
    "    x1=mean(l1)\n",
    "    x2=mean(l2)\n",
    "    return sum([(i-x1)*(j-x2) for i,j in zip(l1,l2)])/len(l1)\n",
    "\n",
    "print(cov(weights,heights))"
   ]
  },
  {
   "cell_type": "code",
   "execution_count": null,
   "metadata": {},
   "outputs": [],
   "source": []
  },
  {
   "cell_type": "code",
   "execution_count": null,
   "metadata": {},
   "outputs": [],
   "source": []
  }
 ],
 "metadata": {
  "kernelspec": {
   "display_name": "Python 3",
   "language": "python",
   "name": "python3"
  },
  "language_info": {
   "codemirror_mode": {
    "name": "ipython",
    "version": 3
   },
   "file_extension": ".py",
   "mimetype": "text/x-python",
   "name": "python",
   "nbconvert_exporter": "python",
   "pygments_lexer": "ipython3",
   "version": "3.11.2"
  },
  "orig_nbformat": 4
 },
 "nbformat": 4,
 "nbformat_minor": 2
}
